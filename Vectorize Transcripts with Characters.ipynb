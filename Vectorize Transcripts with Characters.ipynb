{
 "cells": [
  {
   "cell_type": "code",
   "execution_count": 1,
   "id": "industrial-bottom",
   "metadata": {},
   "outputs": [],
   "source": [
    "from collections import Counter\n",
    "import os\n",
    "import numpy as np"
   ]
  },
  {
   "cell_type": "code",
   "execution_count": 2,
   "id": "secondary-paste",
   "metadata": {},
   "outputs": [],
   "source": [
    "stimulus = 'hidden_figures'"
   ]
  },
  {
   "cell_type": "markdown",
   "id": "normal-banking",
   "metadata": {},
   "source": [
    "# Get Character Labels"
   ]
  },
  {
   "cell_type": "markdown",
   "id": "furnished-terrain",
   "metadata": {},
   "source": [
    "NOTE: Before running the following cells, use **Screenplay Character Labeling - Using Subtitles File.ipynb** to create subtitles with characters (.txt) file from subtitles (.srt) file."
   ]
  },
  {
   "cell_type": "code",
   "execution_count": 3,
   "id": "irish-bunny",
   "metadata": {},
   "outputs": [],
   "source": [
    "def gather_character_info(subtitles_with_characters_path):\n",
    "    char_list = []\n",
    "    with open(subtitles_with_characters_path, 'r') as f:\n",
    "        for line in f.readlines():\n",
    "            line = line.replace('\\n','').replace('\\t','')\n",
    "            if line.find(' - ') != -1:\n",
    "                char = line[:line.find(' - ')]\n",
    "                char_list.append(char)\n",
    "    \n",
    "    char_counts = Counter(char_list)\n",
    "    char2idx = {}\n",
    "    for i, char in enumerate(char_counts.keys()):\n",
    "        char2idx[char] = i\n",
    "    return char2idx, char_counts"
   ]
  },
  {
   "cell_type": "code",
   "execution_count": 4,
   "id": "latter-subdivision",
   "metadata": {},
   "outputs": [],
   "source": [
    "subtitles_with_characters_path = 'subtitles_with_characters/{}_subtitles.txt'.format(stimulus)"
   ]
  },
  {
   "cell_type": "code",
   "execution_count": 5,
   "id": "signal-moscow",
   "metadata": {},
   "outputs": [],
   "source": [
    "char2idx, char_counts = gather_character_info(subtitles_with_characters_path)"
   ]
  },
  {
   "cell_type": "code",
   "execution_count": 26,
   "id": "personalized-brush",
   "metadata": {},
   "outputs": [
    {
     "name": "stdout",
     "output_type": "stream",
     "text": [
      "char2idx\n",
      "{'OTHER': 0, 'KATHERINE': 1, 'DOROTHY': 2, 'MARY': 3, 'AL HARRISON': 4, 'PAUL STAFFORD': 5, 'RUTH': 6, 'VIVIAN MITCHELL': 7, 'JIM JOHNSON': 8, 'JOHN GLENN': 9, 'MISSION CONTROL COMMANDER': 10}\n",
      "\n",
      "\n",
      "char_counts\n",
      "Counter({'OTHER': 375, 'KATHERINE': 320, 'AL HARRISON': 299, 'DOROTHY': 175, 'MARY': 158, 'PAUL STAFFORD': 95, 'VIVIAN MITCHELL': 75, 'JOHN GLENN': 52, 'JIM JOHNSON': 40, 'RUTH': 34, 'MISSION CONTROL COMMANDER': 30})\n"
     ]
    }
   ],
   "source": [
    "print(\"char2idx\")\n",
    "print(char2idx)\n",
    "print(\"\\n\")\n",
    "print(\"char_counts\")\n",
    "print(char_counts)"
   ]
  },
  {
   "cell_type": "markdown",
   "id": "protected-caribbean",
   "metadata": {},
   "source": [
    "# Word-level one-hot character features "
   ]
  },
  {
   "cell_type": "code",
   "execution_count": 14,
   "id": "three-funeral",
   "metadata": {},
   "outputs": [],
   "source": [
    "def generate_word_level_character_features(timed_transcript_with_characters_folder, num_segments, char2idx):\n",
    "    global stimulus\n",
    "    \n",
    "    num_chars = len(char2idx)\n",
    "    word_timestamps = []\n",
    "    words = []\n",
    "    char_feats = np.empty((0,num_chars), int)\n",
    "    for seg in range(1, num_segments+1):\n",
    "        segment_transcript_file = '{}_seg{}_mono.txt'.format(stimulus, str(seg).zfill(2))\n",
    "        timed_transcript_with_characters = os.path.join(timed_transcript_with_characters_folder, segment_transcript_file)\n",
    "        with open(timed_transcript_with_characters, 'r') as f:\n",
    "            for line in f.readlines():\n",
    "                line = line.replace('\\n','').replace('\\t','')\n",
    "                if line == '':\n",
    "                    continue\n",
    "                    \n",
    "                t, c, w = line.split(\":\")[0].strip(), line.split(\":\")[1].strip(), ':'.join(line.split(\":\")[2:]).strip()\n",
    "                \n",
    "                i = char2idx[c]\n",
    "                curr_feat = np.zeros((1,num_chars))\n",
    "                curr_feat[0][i] = 1\n",
    "                char_feats = np.append(char_feats, curr_feat, axis=0)\n",
    "                \n",
    "                words.append(w)\n",
    "                word_timestamps.append(t)            \n",
    "    word_timestamps = np.array(word_timestamps)\n",
    "    return char_feats, words, word_timestamps"
   ]
  },
  {
   "cell_type": "code",
   "execution_count": 15,
   "id": "ancient-lancaster",
   "metadata": {},
   "outputs": [],
   "source": [
    "timed_transcript_with_characters_folder = 'movies_transcripts_with_characters/{}/'.format(stimulus)\n",
    "num_segments = 12"
   ]
  },
  {
   "cell_type": "code",
   "execution_count": 16,
   "id": "widespread-florist",
   "metadata": {},
   "outputs": [],
   "source": [
    "char_feats, words, word_timestamps = generate_word_level_character_features(timed_transcript_with_characters_folder, num_segments, char2idx)"
   ]
  },
  {
   "cell_type": "code",
   "execution_count": 22,
   "id": "employed-jefferson",
   "metadata": {},
   "outputs": [],
   "source": [
    "np.save('movies_word_level_character_features/hidden_figures_character_feats.npy', char_feats, allow_pickle=True)"
   ]
  }
 ],
 "metadata": {
  "kernelspec": {
   "display_name": "Python 3",
   "language": "python",
   "name": "python3"
  },
  "language_info": {
   "codemirror_mode": {
    "name": "ipython",
    "version": 3
   },
   "file_extension": ".py",
   "mimetype": "text/x-python",
   "name": "python",
   "nbconvert_exporter": "python",
   "pygments_lexer": "ipython3",
   "version": "3.8.5"
  }
 },
 "nbformat": 4,
 "nbformat_minor": 5
}
