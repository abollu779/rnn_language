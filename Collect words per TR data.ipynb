{
 "cells": [
  {
   "cell_type": "markdown",
   "id": "operational-rehabilitation",
   "metadata": {},
   "source": [
    "# Import"
   ]
  },
  {
   "cell_type": "code",
   "execution_count": 7,
   "id": "contrary-operations",
   "metadata": {},
   "outputs": [],
   "source": [
    "import numpy as np"
   ]
  },
  {
   "cell_type": "markdown",
   "id": "after-chair",
   "metadata": {},
   "source": [
    "# Storing number of TRs per run per subject"
   ]
  },
  {
   "cell_type": "code",
   "execution_count": 8,
   "id": "correct-illness",
   "metadata": {},
   "outputs": [],
   "source": [
    "subjectruns_to_numtrs = {}\n",
    "cneuromod_subjects = ['01', '02', '03', '04', '05', '06']\n",
    "\n",
    "for subject in cneuromod_subjects:\n",
    "    subjectruns_to_numtrs[subject] = {}\n",
    "\n",
    "# Subject 01\n",
    "subjectruns_to_numtrs['01'][1] = 410\n",
    "subjectruns_to_numtrs['01'][2] = 410\n",
    "subjectruns_to_numtrs['01'][3] = 410\n",
    "subjectruns_to_numtrs['01'][4] = 410\n",
    "subjectruns_to_numtrs['01'][5] = 410\n",
    "subjectruns_to_numtrs['01'][6] = 408\n",
    "subjectruns_to_numtrs['01'][7] = 408\n",
    "subjectruns_to_numtrs['01'][8] = 409\n",
    "subjectruns_to_numtrs['01'][9] = 409\n",
    "subjectruns_to_numtrs['01'][10] = 409\n",
    "subjectruns_to_numtrs['01'][11] = 409\n",
    "subjectruns_to_numtrs['01'][12] = 373\n",
    "\n",
    "# Subject 02\n",
    "subjectruns_to_numtrs['02'][1] = 410\n",
    "subjectruns_to_numtrs['02'][2] = 410\n",
    "subjectruns_to_numtrs['02'][3] = 410\n",
    "subjectruns_to_numtrs['02'][4] = 410\n",
    "subjectruns_to_numtrs['02'][5] = 410\n",
    "subjectruns_to_numtrs['02'][6] = 410\n",
    "subjectruns_to_numtrs['02'][7] = 410\n",
    "subjectruns_to_numtrs['02'][8] = 410\n",
    "subjectruns_to_numtrs['02'][9] = 410\n",
    "subjectruns_to_numtrs['02'][10] = 410\n",
    "subjectruns_to_numtrs['02'][11] = 410\n",
    "subjectruns_to_numtrs['02'][12] = 373\n",
    "\n",
    "# Subject 03\n",
    "subjectruns_to_numtrs['03'][1] = 402\n",
    "subjectruns_to_numtrs['03'][2] = 409\n",
    "subjectruns_to_numtrs['03'][3] = 411\n",
    "subjectruns_to_numtrs['03'][4] = 409\n",
    "subjectruns_to_numtrs['03'][5] = 408\n",
    "subjectruns_to_numtrs['03'][6] = 410\n",
    "subjectruns_to_numtrs['03'][7] = 410\n",
    "subjectruns_to_numtrs['03'][8] = 410\n",
    "subjectruns_to_numtrs['03'][9] = 410\n",
    "subjectruns_to_numtrs['03'][10] = 410\n",
    "subjectruns_to_numtrs['03'][11] = 410\n",
    "subjectruns_to_numtrs['03'][12] = 373\n",
    "\n",
    "# Subject 04\n",
    "subjectruns_to_numtrs['04'][1] = 402\n",
    "subjectruns_to_numtrs['04'][2] = 409\n",
    "subjectruns_to_numtrs['04'][3] = 411\n",
    "subjectruns_to_numtrs['04'][4] = 409\n",
    "subjectruns_to_numtrs['04'][5] = 408\n",
    "subjectruns_to_numtrs['04'][6] = 410\n",
    "subjectruns_to_numtrs['04'][7] = 408\n",
    "subjectruns_to_numtrs['04'][8] = 409\n",
    "subjectruns_to_numtrs['04'][9] = 409\n",
    "subjectruns_to_numtrs['04'][10] = 409\n",
    "subjectruns_to_numtrs['04'][11] = 409\n",
    "subjectruns_to_numtrs['04'][12] = 373\n",
    "                        \n",
    "# Subject 05\n",
    "subjectruns_to_numtrs['05'][1] = 410\n",
    "subjectruns_to_numtrs['05'][2] = 410\n",
    "subjectruns_to_numtrs['05'][3] = 410\n",
    "subjectruns_to_numtrs['05'][4] = 410\n",
    "subjectruns_to_numtrs['05'][5] = 410\n",
    "subjectruns_to_numtrs['05'][6] = 410\n",
    "subjectruns_to_numtrs['05'][7] = 410\n",
    "subjectruns_to_numtrs['05'][8] = 410\n",
    "subjectruns_to_numtrs['05'][9] = 410\n",
    "subjectruns_to_numtrs['05'][10] = 410\n",
    "subjectruns_to_numtrs['05'][11] = 410\n",
    "subjectruns_to_numtrs['05'][12] = 373\n",
    "            \n",
    "# Subject 06\n",
    "subjectruns_to_numtrs['06'][1] = 404\n",
    "subjectruns_to_numtrs['06'][2] = 409\n",
    "subjectruns_to_numtrs['06'][3] = 411\n",
    "subjectruns_to_numtrs['06'][4] = 409\n",
    "subjectruns_to_numtrs['06'][5] = 408\n",
    "subjectruns_to_numtrs['06'][6] = 410\n",
    "subjectruns_to_numtrs['06'][7] = 408\n",
    "subjectruns_to_numtrs['06'][8] = 409\n",
    "subjectruns_to_numtrs['06'][9] = 410\n",
    "subjectruns_to_numtrs['06'][10] = 410\n",
    "subjectruns_to_numtrs['06'][11] = 410\n",
    "subjectruns_to_numtrs['06'][12] = 373"
   ]
  },
  {
   "cell_type": "code",
   "execution_count": 9,
   "id": "statewide-insertion",
   "metadata": {},
   "outputs": [],
   "source": [
    "# returns list of all word timings in the given run\n",
    "def collect_word_timings(timed_words_path):\n",
    "    word_timings = []\n",
    "    with open(timed_words_path, 'r') as f:\n",
    "        for line in f.readlines():\n",
    "            line = line.strip()\n",
    "            if line == \"\":\n",
    "                continue\n",
    "            else:\n",
    "                word_timings.append(float(line.split(':')[0]))\n",
    "    word_timings = np.array(word_timings)\n",
    "    return word_timings"
   ]
  },
  {
   "cell_type": "code",
   "execution_count": 13,
   "id": "embedded-insurance",
   "metadata": {},
   "outputs": [],
   "source": [
    "TR_duration = 1.49\n",
    "for subject in cneuromod_subjects:\n",
    "    for subj_run in range(1,13):\n",
    "        if subj_run < 10:\n",
    "            run = '0' + str(subj_run)\n",
    "        else:\n",
    "            run = str(subj_run)\n",
    "        timed_words_path = 'movies_transcripts/hidden_figures/hidden_figures_seg{}_mono.txt'.format(run)\n",
    "        word_timings = collect_word_timings(timed_words_path)\n",
    "        num_TRs = subjectruns_to_numtrs[subject][subj_run]\n",
    "        TR_start_times = np.arange(0,num_TRs)*TR_duration\n",
    "        \n",
    "        words_per_tr = [(np.sum(word_timings>TR_start_times[i]) - np.sum(word_timings>TR_start_times[i+1])) for i in range(len(TR_start_times)-1)]\n",
    "        words_per_tr.append(np.sum(word_timings>TR_start_times[-1]))\n",
    "        \n",
    "        np.save('words_per_tr/sub{}/hidden_figures_seg{}.npy'.format(subject, run), np.array(words_per_tr))\n",
    "        del words_per_tr"
   ]
  },
  {
   "cell_type": "code",
   "execution_count": 16,
   "id": "mexican-homeless",
   "metadata": {},
   "outputs": [
    {
     "data": {
      "text/plain": [
       "array([ 1,  1,  1,  1,  1,  1,  1,  0,  1,  2,  3,  6,  3,  7,  5,  1,  0,\n",
       "        1,  1,  1,  1,  1,  5,  5,  1,  0,  1,  6,  5,  3,  2,  0,  6,  4,\n",
       "        0,  0,  0,  0,  2,  6,  4,  5,  8,  2,  5,  0,  0,  0,  0,  0,  0,\n",
       "        0,  0,  5,  3,  7,  9,  3,  7,  5,  4,  6,  4,  5,  1, 10,  1,  0,\n",
       "        3,  3,  6,  6,  3,  2,  0,  4,  3,  2,  0,  0,  0,  0,  7,  0,  0,\n",
       "        0,  0,  0,  0,  0,  0,  0,  0,  0,  0,  0,  0,  0,  0,  0,  0,  4,\n",
       "        3,  1,  1,  1,  2,  7,  5,  1,  3,  5,  0,  3,  0,  1,  2,  4,  3,\n",
       "        3,  5,  6,  8,  5,  5,  7,  1,  4,  3,  0,  0,  0,  1,  0,  0,  0,\n",
       "        0,  6,  4,  4,  3,  6,  7,  1,  0,  0,  0,  0,  0,  0,  0,  0,  6,\n",
       "        9,  6,  4,  3,  2,  4,  4,  1,  2,  6,  2,  2,  5,  4,  4,  4,  2,\n",
       "        1,  3,  0,  6,  3,  3,  5,  0,  0,  0,  0,  0,  0,  4,  3,  1,  1,\n",
       "        5,  3,  1,  1,  3,  6,  9,  4,  5,  8,  4,  5,  6,  7,  3,  1,  5,\n",
       "        7,  7,  4,  1,  2,  0,  6,  0,  2,  1,  6,  7,  5,  7,  8,  4,  1,\n",
       "        8,  2,  7,  6,  0,  0,  0,  0,  0,  2,  2,  7, 13,  0,  2,  8,  8,\n",
       "        3,  6,  5,  2,  1,  2,  4,  1,  7,  0,  0,  0,  0,  0,  0,  0,  0,\n",
       "        0,  0,  0,  0,  0,  0,  0,  0,  0,  1,  1,  2,  0,  0,  0,  0,  0,\n",
       "        2,  0,  3,  0,  0,  2,  0,  0,  0,  0,  0,  0,  2,  1,  0,  3,  0,\n",
       "        0,  4,  1,  4,  0,  2,  0,  3,  3,  1,  5,  5,  2,  0,  2,  6,  3,\n",
       "        4,  1,  6,  4,  7,  3,  4,  0,  0,  4,  4,  0,  1,  7,  6,  4,  7,\n",
       "        3,  5,  6,  7,  7,  2,  4,  1,  6,  2,  2,  1,  5,  3,  4,  1,  4,\n",
       "        4,  5,  9,  5,  6,  6,  1,  0,  7,  6,  1,  0,  6,  2,  7,  1,  8,\n",
       "       10,  2,  8,  3,  6,  3,  5,  2,  5,  4,  4,  3,  4,  1,  3,  3,  3,\n",
       "        4,  6,  6,  7,  4,  3,  7,  7, 10,  6,  0,  0,  0,  0,  0,  0,  0,\n",
       "        0,  0,  0,  0,  2, 10, 10,  3,  0,  0,  0,  0,  0,  0,  0,  0,  0,\n",
       "        0,  0])"
      ]
     },
     "execution_count": 16,
     "metadata": {},
     "output_type": "execute_result"
    }
   ],
   "source": [
    "loaded = np.load('words_per_tr/sub01/hidden_figures_seg01.npy')\n",
    "loaded"
   ]
  },
  {
   "cell_type": "code",
   "execution_count": null,
   "id": "nonprofit-peninsula",
   "metadata": {},
   "outputs": [],
   "source": []
  }
 ],
 "metadata": {
  "kernelspec": {
   "display_name": "pytorch_macos",
   "language": "python",
   "name": "pytorch_macos"
  },
  "language_info": {
   "codemirror_mode": {
    "name": "ipython",
    "version": 3
   },
   "file_extension": ".py",
   "mimetype": "text/x-python",
   "name": "python",
   "nbconvert_exporter": "python",
   "pygments_lexer": "ipython3",
   "version": "3.8.8"
  }
 },
 "nbformat": 4,
 "nbformat_minor": 5
}
