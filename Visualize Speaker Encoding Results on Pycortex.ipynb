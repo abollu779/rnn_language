{
 "cells": [
  {
   "cell_type": "code",
   "execution_count": 1,
   "id": "executive-hollow",
   "metadata": {},
   "outputs": [],
   "source": [
    "import numpy as np\n",
    "import cortex"
   ]
  },
  {
   "cell_type": "code",
   "execution_count": 3,
   "id": "middle-portugal",
   "metadata": {},
   "outputs": [],
   "source": [
    "loaded = np.load('brainpreds_speaker/predict_01_with_speaker.npy', allow_pickle=True)\n",
    "corrs = loaded.item()['corrs_t']\n",
    "mask = cortex.db.get_mask('MNI','atlas_152_sub1','thin')\n",
    "vols = {}\n",
    "vols['speaker, sub1'] = cortex.Volume(np.mean(corrs,0), 'MNI', 'atlas_152_sub1', mask=mask, vmin=0.05, vmax=0.2, cmap='viridis')"
   ]
  },
  {
   "cell_type": "code",
   "execution_count": 14,
   "id": "blind-newton",
   "metadata": {},
   "outputs": [
    {
     "data": {
      "text/plain": [
       "0.6518543565651257"
      ]
     },
     "execution_count": 14,
     "metadata": {},
     "output_type": "execute_result"
    },
    {
     "name": "stdout",
     "output_type": "stream",
     "text": [
      "Stopping server\n"
     ]
    }
   ],
   "source": [
    "corrs.mean(0).max()"
   ]
  },
  {
   "cell_type": "code",
   "execution_count": 4,
   "id": "alleged-mistake",
   "metadata": {},
   "outputs": [],
   "source": [
    "loaded = np.load('brainpreds_elmo/predict_01_with_elmo_layer_1_len_25.npy', allow_pickle=True)\n",
    "corrs = loaded.item()['corrs_t']\n",
    "mask = cortex.db.get_mask('MNI','atlas_152_sub1','thin')\n",
    "vols['elmo, sub1'] = cortex.Volume(np.mean(corrs,0), 'MNI', 'atlas_152_sub1', mask=mask, vmin=0.05, vmax=0.2, cmap='viridis')"
   ]
  },
  {
   "cell_type": "code",
   "execution_count": 8,
   "id": "dominican-defeat",
   "metadata": {},
   "outputs": [],
   "source": [
    "loaded = np.load('brainpreds_speaker/predict_02_with_speaker.npy', allow_pickle=True)\n",
    "corrs = loaded.item()['corrs_t']\n",
    "mask = cortex.db.get_mask('MNI','atlas_152_sub1','thin')\n",
    "vols['speaker, sub2'] = cortex.Volume(np.mean(corrs,0), 'MNI', 'atlas_152_sub1', mask=mask, vmin=0.05, vmax=0.2, cmap='viridis')"
   ]
  },
  {
   "cell_type": "code",
   "execution_count": 9,
   "id": "ongoing-spotlight",
   "metadata": {},
   "outputs": [],
   "source": [
    "loaded = np.load('brainpreds_elmo/predict_02_with_elmo_layer_1_len_25.npy', allow_pickle=True)\n",
    "corrs = loaded.item()['corrs_t']\n",
    "mask = cortex.db.get_mask('MNI','atlas_152_sub1','thin')\n",
    "vols['elmo, sub2'] = cortex.Volume(np.mean(corrs,0), 'MNI', 'atlas_152_sub1', mask=mask, vmin=0.05, vmax=0.2, cmap='viridis')"
   ]
  },
  {
   "cell_type": "code",
   "execution_count": 10,
   "id": "sized-patrick",
   "metadata": {},
   "outputs": [
    {
     "name": "stdout",
     "output_type": "stream",
     "text": [
      "Started server on port 2173\n"
     ]
    },
    {
     "data": {
      "text/html": [
       "Open viewer: <a href=\"http://Anands-MacBook-Pro.local:2173/mixer.html\" target=\"_blank\">http://Anands-MacBook-Pro.local:2173/mixer.html</a>"
      ],
      "text/plain": [
       "<IPython.core.display.HTML object>"
      ]
     },
     "metadata": {},
     "output_type": "display_data"
    },
    {
     "data": {
      "text/plain": [
       "<WebApp(Thread-5, started 13169930240)>"
      ]
     },
     "execution_count": 10,
     "metadata": {},
     "output_type": "execute_result"
    },
    {
     "name": "stdout",
     "output_type": "stream",
     "text": [
      "Stopping server\n"
     ]
    }
   ],
   "source": [
    "cortex.webshow(vols,open_browser=False)"
   ]
  },
  {
   "cell_type": "code",
   "execution_count": null,
   "id": "controversial-edwards",
   "metadata": {},
   "outputs": [],
   "source": []
  }
 ],
 "metadata": {
  "kernelspec": {
   "display_name": "Python 3",
   "language": "python",
   "name": "python3"
  },
  "language_info": {
   "codemirror_mode": {
    "name": "ipython",
    "version": 3
   },
   "file_extension": ".py",
   "mimetype": "text/x-python",
   "name": "python",
   "nbconvert_exporter": "python",
   "pygments_lexer": "ipython3",
   "version": "3.8.8"
  }
 },
 "nbformat": 4,
 "nbformat_minor": 5
}
