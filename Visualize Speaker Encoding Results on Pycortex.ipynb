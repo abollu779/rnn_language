{
 "cells": [
  {
   "cell_type": "code",
   "execution_count": 8,
   "id": "executive-hollow",
   "metadata": {},
   "outputs": [],
   "source": [
    "import numpy as np\n",
    "import cortex"
   ]
  },
  {
   "cell_type": "code",
   "execution_count": 9,
   "id": "middle-portugal",
   "metadata": {},
   "outputs": [],
   "source": [
    "elmo_loaded = np.load('experiment_code/refresh_results/elmo/predict_01_rep_2_with_elmo_layer_1_len_25.npy', allow_pickle=True)\n",
    "corrs = elmo_loaded.item()['corrs_t']\n",
    "mask = cortex.db.get_mask('MNI','atlas_152_sub1','thin')\n",
    "vols = {}\n",
    "vols['elmo, sub1'] = cortex.Volume(np.mean(corrs,0), 'MNI', 'atlas_152_sub1', mask=mask, vmin=0.05, vmax=0.2, cmap='viridis')"
   ]
  },
  {
   "cell_type": "code",
   "execution_count": 10,
   "id": "alleged-mistake",
   "metadata": {},
   "outputs": [],
   "source": [
    "speaker_lanczos_loaded = np.load('experiment_code/refresh_results/speaker_lanczos/predict_01_rep_2_with_speaker.npy', allow_pickle=True)\n",
    "corrs = speaker_lanczos_loaded.item()['corrs_t']\n",
    "mask = cortex.db.get_mask('MNI','atlas_152_sub1','thin')\n",
    "vols['speaker_lanczos, sub1'] = cortex.Volume(np.mean(corrs,0), 'MNI', 'atlas_152_sub1', mask=mask, vmin=0.05, vmax=0.2, cmap='viridis')"
   ]
  },
  {
   "cell_type": "code",
   "execution_count": 11,
   "id": "dominican-defeat",
   "metadata": {},
   "outputs": [],
   "source": [
    "speaker_majority_loaded = np.load('experiment_code/refresh_results/speaker_majority/predict_01_rep_2_with_speaker.npy', allow_pickle=True)\n",
    "corrs = speaker_majority_loaded.item()['corrs_t']\n",
    "mask = cortex.db.get_mask('MNI','atlas_152_sub1','thin')\n",
    "vols['speaker_majority, sub1'] = cortex.Volume(np.mean(corrs,0), 'MNI', 'atlas_152_sub1', mask=mask, vmin=0.05, vmax=0.2, cmap='viridis')"
   ]
  },
  {
   "cell_type": "code",
   "execution_count": 13,
   "id": "controversial-edwards",
   "metadata": {},
   "outputs": [
    {
     "name": "stdout",
     "output_type": "stream",
     "text": [
      "Stopping server\n"
     ]
    }
   ],
   "source": [
    "words_per_TR_loaded = np.load('experiment_code/refresh_results/words_per_TR/predict_01_rep_2_with_words_per_TR.npy', allow_pickle=True)\n",
    "corrs = words_per_TR_loaded.item()['corrs_t']\n",
    "mask = cortex.db.get_mask('MNI','atlas_152_sub1','thin')\n",
    "vols['words_per_TR, sub1'] = cortex.Volume(np.mean(corrs,0), 'MNI', 'atlas_152_sub1', mask=mask, vmin=0.05, vmax=0.2, cmap='viridis')"
   ]
  },
  {
   "cell_type": "code",
   "execution_count": 14,
   "id": "sized-patrick",
   "metadata": {},
   "outputs": [
    {
     "name": "stdout",
     "output_type": "stream",
     "text": [
      "Started server on port 41053\n"
     ]
    },
    {
     "data": {
      "text/html": [
       "Open viewer: <a href=\"http://Anands-MacBook-Pro.local:41053/mixer.html\" target=\"_blank\">http://Anands-MacBook-Pro.local:41053/mixer.html</a>"
      ],
      "text/plain": [
       "<IPython.core.display.HTML object>"
      ]
     },
     "metadata": {},
     "output_type": "display_data"
    },
    {
     "data": {
      "text/plain": [
       "<WebApp(Thread-8, started 13099778048)>"
      ]
     },
     "execution_count": 14,
     "metadata": {},
     "output_type": "execute_result"
    },
    {
     "name": "stdout",
     "output_type": "stream",
     "text": [
      "Stopping server\n"
     ]
    }
   ],
   "source": [
    "cortex.webshow(vols,open_browser=False)"
   ]
  },
  {
   "cell_type": "code",
   "execution_count": null,
   "id": "ignored-rates",
   "metadata": {},
   "outputs": [],
   "source": []
  }
 ],
 "metadata": {
  "kernelspec": {
   "display_name": "Python 3",
   "language": "python",
   "name": "python3"
  },
  "language_info": {
   "codemirror_mode": {
    "name": "ipython",
    "version": 3
   },
   "file_extension": ".py",
   "mimetype": "text/x-python",
   "name": "python",
   "nbconvert_exporter": "python",
   "pygments_lexer": "ipython3",
   "version": "3.8.8"
  }
 },
 "nbformat": 4,
 "nbformat_minor": 5
}
