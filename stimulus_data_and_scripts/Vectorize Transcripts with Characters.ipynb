{
 "cells": [
  {
   "cell_type": "markdown",
   "id": "hawaiian-segment",
   "metadata": {},
   "source": [
    "# Import"
   ]
  },
  {
   "cell_type": "code",
   "execution_count": 1,
   "id": "industrial-bottom",
   "metadata": {},
   "outputs": [],
   "source": [
    "from collections import Counter\n",
    "import os\n",
    "import numpy as np"
   ]
  },
  {
   "cell_type": "code",
   "execution_count": 2,
   "id": "secondary-paste",
   "metadata": {},
   "outputs": [],
   "source": [
    "stimulus = 'hidden_figures'"
   ]
  },
  {
   "cell_type": "markdown",
   "id": "normal-banking",
   "metadata": {},
   "source": [
    "# Helper functions"
   ]
  },
  {
   "cell_type": "markdown",
   "id": "earlier-course",
   "metadata": {},
   "source": [
    "## Get character labels and map them to indices"
   ]
  },
  {
   "cell_type": "code",
   "execution_count": 3,
   "id": "irish-bunny",
   "metadata": {},
   "outputs": [],
   "source": [
    "def gather_character_info(subtitles_with_characters_path):\n",
    "    character_list = []\n",
    "    with open(subtitles_with_characters_path, 'r') as f:\n",
    "        for line in f.readlines():\n",
    "            line = line.replace('\\n','').replace('\\t','')\n",
    "            if line.find(' - ') != -1:\n",
    "                character = line[:line.find(' - ')]\n",
    "                character_list.append(character)\n",
    "    \n",
    "    character_counts = Counter(character_list)\n",
    "    character2idx = {}\n",
    "    for i, character in enumerate(character_counts.keys()):\n",
    "        character2idx[character] = i\n",
    "    return character2idx, character_counts"
   ]
  },
  {
   "cell_type": "markdown",
   "id": "protected-caribbean",
   "metadata": {},
   "source": [
    "## Create word-level one-hot character features "
   ]
  },
  {
   "cell_type": "code",
   "execution_count": 7,
   "id": "convenient-payday",
   "metadata": {},
   "outputs": [],
   "source": [
    "def generate_word_level_character_features(seg_transcript_path, character2idx, seg_out_path):\n",
    "    num_characters = len(character2idx)\n",
    "    words, timestamps = [], []\n",
    "    char_feats = char_feats = np.empty((0,num_characters), int)\n",
    "    with open(seg_transcript_path, 'r') as f:\n",
    "        for line in f.readlines():\n",
    "            line = line.replace('\\n','').replace('\\t','')\n",
    "            if line == '':\n",
    "                continue\n",
    "\n",
    "            t, c, w = line.split(\":\")[0].strip(), line.split(\":\")[1].strip(), ':'.join(line.split(\":\")[2:]).strip()\n",
    "\n",
    "            i = character2idx[c]\n",
    "            curr_feat = np.zeros((1,num_characters))\n",
    "            curr_feat[0][i] = 1\n",
    "            char_feats = np.append(char_feats, curr_feat, axis=0)\n",
    "\n",
    "            words.append(w)\n",
    "            timestamps.append(float(t))\n",
    "        timestamps = np.array(timestamps)\n",
    "    \n",
    "    np.save(seg_out_path, {'char_feats': char_feats, 'words': words, 'timestamps': timestamps}, allow_pickle=True)\n",
    "    \n",
    "    return char_feats, words, timestamps"
   ]
  },
  {
   "cell_type": "markdown",
   "id": "central-moral",
   "metadata": {},
   "source": [
    "# Testing this code with an example"
   ]
  },
  {
   "cell_type": "code",
   "execution_count": null,
   "id": "complimentary-fleet",
   "metadata": {},
   "outputs": [],
   "source": [
    "subtitles_with_characters_path = 'subtitles_with_characters/{}_subtitles.txt'.format(stimulus)\n",
    "movies_transcripts_with_characters_folder = 'movies_transcripts_with_characters/{}/'.format(stimulus)\n",
    "out_folder = 'movies_word_level_character_embeddings/{}'.format(stimulus)"
   ]
  },
  {
   "cell_type": "code",
   "execution_count": 6,
   "id": "personalized-brush",
   "metadata": {},
   "outputs": [
    {
     "name": "stdout",
     "output_type": "stream",
     "text": [
      "character2idx\n",
      "{'OTHER': 0, 'KATHERINE': 1, 'DOROTHY': 2, 'MARY': 3, 'AL HARRISON': 4, 'PAUL STAFFORD': 5, 'RUTH': 6, 'VIVIAN MITCHELL': 7, 'JIM JOHNSON': 8, 'JOHN GLENN': 9, 'MISSION CONTROL COMMANDER': 10}\n",
      "\n",
      "\n",
      "character_counts\n",
      "Counter({'OTHER': 375, 'KATHERINE': 320, 'AL HARRISON': 299, 'DOROTHY': 175, 'MARY': 158, 'PAUL STAFFORD': 95, 'VIVIAN MITCHELL': 75, 'JOHN GLENN': 52, 'JIM JOHNSON': 40, 'RUTH': 34, 'MISSION CONTROL COMMANDER': 30})\n"
     ]
    }
   ],
   "source": [
    "character2idx, character_counts = gather_character_info(subtitles_with_characters_path)\n",
    "print(\"character2idx\")\n",
    "print(character2idx)\n",
    "print(\"\\n\")\n",
    "print(\"character_counts\")\n",
    "print(character_counts)"
   ]
  },
  {
   "cell_type": "code",
   "execution_count": 8,
   "id": "imposed-office",
   "metadata": {},
   "outputs": [],
   "source": [
    "num_segments = 12\n",
    "for seg in range(1, num_segments+1):\n",
    "    segment_transcript_file = '{}_seg{}_mono.txt'.format(stimulus, str(seg).zfill(2))\n",
    "    segment_transcript_path = os.path.join(movies_transcripts_with_characters_folder, segment_transcript_file)\n",
    "    out_file = '{}_seg{}.npy'.format(stimulus, str(seg).zfill(2))\n",
    "    out_path = os.path.join(out_folder, out_file)\n",
    "    generate_word_level_character_features(segment_transcript_path, character2idx, out_path)"
   ]
  }
 ],
 "metadata": {
  "kernelspec": {
   "display_name": "Python 3",
   "language": "python",
   "name": "python3"
  },
  "language_info": {
   "codemirror_mode": {
    "name": "ipython",
    "version": 3
   },
   "file_extension": ".py",
   "mimetype": "text/x-python",
   "name": "python",
   "nbconvert_exporter": "python",
   "pygments_lexer": "ipython3",
   "version": "3.8.8"
  }
 },
 "nbformat": 4,
 "nbformat_minor": 5
}
