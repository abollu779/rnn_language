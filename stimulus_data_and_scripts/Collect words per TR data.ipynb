{
 "cells": [
  {
   "cell_type": "markdown",
   "id": "nervous-shelter",
   "metadata": {},
   "source": [
    "# Import"
   ]
  },
  {
   "cell_type": "code",
   "execution_count": 20,
   "id": "nonprofit-practitioner",
   "metadata": {},
   "outputs": [],
   "source": [
    "import numpy as np"
   ]
  },
  {
   "cell_type": "markdown",
   "id": "floral-stand",
   "metadata": {},
   "source": [
    "# Storing number of TRs per run per subject"
   ]
  },
  {
   "cell_type": "code",
   "execution_count": 21,
   "id": "vulnerable-british",
   "metadata": {},
   "outputs": [],
   "source": [
    "subjectruns_to_numtrs = {}\n",
    "cneuromod_subjects = ['01', '02', '03', '04', '05', '06']\n",
    "\n",
    "for subject in cneuromod_subjects:\n",
    "    subjectruns_to_numtrs[subject] = {}\n",
    "\n",
    "# Subject 01\n",
    "subjectruns_to_numtrs['01'][1] = 410\n",
    "subjectruns_to_numtrs['01'][2] = 410\n",
    "subjectruns_to_numtrs['01'][3] = 410\n",
    "subjectruns_to_numtrs['01'][4] = 410\n",
    "subjectruns_to_numtrs['01'][5] = 410\n",
    "subjectruns_to_numtrs['01'][6] = 408\n",
    "subjectruns_to_numtrs['01'][7] = 408\n",
    "subjectruns_to_numtrs['01'][8] = 409\n",
    "subjectruns_to_numtrs['01'][9] = 409\n",
    "subjectruns_to_numtrs['01'][10] = 409\n",
    "subjectruns_to_numtrs['01'][11] = 409\n",
    "subjectruns_to_numtrs['01'][12] = 373\n",
    "\n",
    "# Subject 02\n",
    "subjectruns_to_numtrs['02'][1] = 410\n",
    "subjectruns_to_numtrs['02'][2] = 410\n",
    "subjectruns_to_numtrs['02'][3] = 410\n",
    "subjectruns_to_numtrs['02'][4] = 410\n",
    "subjectruns_to_numtrs['02'][5] = 410\n",
    "subjectruns_to_numtrs['02'][6] = 410\n",
    "subjectruns_to_numtrs['02'][7] = 410\n",
    "subjectruns_to_numtrs['02'][8] = 410\n",
    "subjectruns_to_numtrs['02'][9] = 410\n",
    "subjectruns_to_numtrs['02'][10] = 410\n",
    "subjectruns_to_numtrs['02'][11] = 410\n",
    "subjectruns_to_numtrs['02'][12] = 373\n",
    "\n",
    "# Subject 03\n",
    "subjectruns_to_numtrs['03'][1] = 402\n",
    "subjectruns_to_numtrs['03'][2] = 409\n",
    "subjectruns_to_numtrs['03'][3] = 411\n",
    "subjectruns_to_numtrs['03'][4] = 409\n",
    "subjectruns_to_numtrs['03'][5] = 408\n",
    "subjectruns_to_numtrs['03'][6] = 410\n",
    "subjectruns_to_numtrs['03'][7] = 410\n",
    "subjectruns_to_numtrs['03'][8] = 410\n",
    "subjectruns_to_numtrs['03'][9] = 410\n",
    "subjectruns_to_numtrs['03'][10] = 410\n",
    "subjectruns_to_numtrs['03'][11] = 410\n",
    "subjectruns_to_numtrs['03'][12] = 373\n",
    "\n",
    "# Subject 04\n",
    "subjectruns_to_numtrs['04'][1] = 402\n",
    "subjectruns_to_numtrs['04'][2] = 409\n",
    "subjectruns_to_numtrs['04'][3] = 411\n",
    "subjectruns_to_numtrs['04'][4] = 409\n",
    "subjectruns_to_numtrs['04'][5] = 408\n",
    "subjectruns_to_numtrs['04'][6] = 410\n",
    "subjectruns_to_numtrs['04'][7] = 408\n",
    "subjectruns_to_numtrs['04'][8] = 409\n",
    "subjectruns_to_numtrs['04'][9] = 409\n",
    "subjectruns_to_numtrs['04'][10] = 409\n",
    "subjectruns_to_numtrs['04'][11] = 409\n",
    "subjectruns_to_numtrs['04'][12] = 373\n",
    "                        \n",
    "# Subject 05\n",
    "subjectruns_to_numtrs['05'][1] = 410\n",
    "subjectruns_to_numtrs['05'][2] = 410\n",
    "subjectruns_to_numtrs['05'][3] = 410\n",
    "subjectruns_to_numtrs['05'][4] = 410\n",
    "subjectruns_to_numtrs['05'][5] = 410\n",
    "subjectruns_to_numtrs['05'][6] = 410\n",
    "subjectruns_to_numtrs['05'][7] = 410\n",
    "subjectruns_to_numtrs['05'][8] = 410\n",
    "subjectruns_to_numtrs['05'][9] = 410\n",
    "subjectruns_to_numtrs['05'][10] = 410\n",
    "subjectruns_to_numtrs['05'][11] = 410\n",
    "subjectruns_to_numtrs['05'][12] = 373\n",
    "            \n",
    "# Subject 06\n",
    "subjectruns_to_numtrs['06'][1] = 404\n",
    "subjectruns_to_numtrs['06'][2] = 409\n",
    "subjectruns_to_numtrs['06'][3] = 411\n",
    "subjectruns_to_numtrs['06'][4] = 409\n",
    "subjectruns_to_numtrs['06'][5] = 408\n",
    "subjectruns_to_numtrs['06'][6] = 410\n",
    "subjectruns_to_numtrs['06'][7] = 408\n",
    "subjectruns_to_numtrs['06'][8] = 409\n",
    "subjectruns_to_numtrs['06'][9] = 410\n",
    "subjectruns_to_numtrs['06'][10] = 410\n",
    "subjectruns_to_numtrs['06'][11] = 410\n",
    "subjectruns_to_numtrs['06'][12] = 373"
   ]
  },
  {
   "cell_type": "code",
   "execution_count": 22,
   "id": "independent-contribution",
   "metadata": {},
   "outputs": [],
   "source": [
    "# returns list of all word timings in the given run\n",
    "def collect_word_timings(timed_words_path):\n",
    "    word_timings = []\n",
    "    with open(timed_words_path, 'r') as f:\n",
    "        for line in f.readlines():\n",
    "            line = line.strip()\n",
    "            if line == \"\":\n",
    "                continue\n",
    "            else:\n",
    "                word_timings.append(float(line.split(':')[0]))\n",
    "    word_timings = np.array(word_timings)\n",
    "    return word_timings"
   ]
  },
  {
   "cell_type": "code",
   "execution_count": 23,
   "id": "painful-butler",
   "metadata": {},
   "outputs": [],
   "source": [
    "TR_duration = 1.49\n",
    "for subject in cneuromod_subjects:\n",
    "    for subj_run in range(1,13):\n",
    "        if subj_run < 10:\n",
    "            run = '0' + str(subj_run)\n",
    "        else:\n",
    "            run = str(subj_run)\n",
    "        timed_words_path = 'movies_transcripts/hidden_figures/hidden_figures_seg{}_mono.txt'.format(run)\n",
    "        word_timings = collect_word_timings(timed_words_path)\n",
    "        num_TRs = subjectruns_to_numtrs[subject][subj_run]\n",
    "        TR_start_times = np.arange(0,num_TRs)*TR_duration\n",
    "        \n",
    "        words_per_tr = [(np.sum(word_timings>TR_start_times[i]) - np.sum(word_timings>TR_start_times[i+1])) for i in range(len(TR_start_times)-1)]\n",
    "        words_per_tr.append(np.sum(word_timings>TR_start_times[-1]))\n",
    "        \n",
    "        words_per_tr = np.array(words_per_tr).reshape(-1,1)\n",
    "        \n",
    "        np.save('words_per_tr/sub{}/hidden_figures_seg{}.npy'.format(subject, run), words_per_tr)\n",
    "        del words_per_tr"
   ]
  },
  {
   "cell_type": "code",
   "execution_count": 25,
   "id": "sticky-wisdom",
   "metadata": {},
   "outputs": [
    {
     "data": {
      "text/plain": [
       "(410, 1)"
      ]
     },
     "execution_count": 25,
     "metadata": {},
     "output_type": "execute_result"
    }
   ],
   "source": [
    "loaded1 = np.load('words_per_tr/sub01/hidden_figures_seg01.npy')\n",
    "loaded1.shape"
   ]
  },
  {
   "cell_type": "code",
   "execution_count": 27,
   "id": "nearby-pavilion",
   "metadata": {},
   "outputs": [
    {
     "data": {
      "text/plain": [
       "(373, 1)"
      ]
     },
     "execution_count": 27,
     "metadata": {},
     "output_type": "execute_result"
    }
   ],
   "source": [
    "loaded12 = np.load('words_per_tr/sub01/hidden_figures_seg12.npy')\n",
    "loaded12.shape"
   ]
  }
 ],
 "metadata": {
  "kernelspec": {
   "display_name": "pytorch_macos",
   "language": "python",
   "name": "pytorch_macos"
  },
  "language_info": {
   "codemirror_mode": {
    "name": "ipython",
    "version": 3
   },
   "file_extension": ".py",
   "mimetype": "text/x-python",
   "name": "python",
   "nbconvert_exporter": "python",
   "pygments_lexer": "ipython3",
   "version": "3.8.8"
  }
 },
 "nbformat": 4,
 "nbformat_minor": 5
}
